{
  "nbformat": 4,
  "nbformat_minor": 0,
  "metadata": {
    "colab": {
      "provenance": []
    },
    "kernelspec": {
      "name": "python3",
      "display_name": "Python 3"
    },
    "language_info": {
      "name": "python"
    }
  },
  "cells": [
    {
      "cell_type": "markdown",
      "source": [
        "# **Task: Data Exploration and Preprocessing**"
      ],
      "metadata": {
        "id": "F9L6nA6K712G"
      }
    },
    {
      "cell_type": "markdown",
      "source": [
        "### **Explore the Dataset and Identify the number of rows and columns.**"
      ],
      "metadata": {
        "id": "8HMw70py8MnI"
      }
    },
    {
      "cell_type": "code",
      "source": [
        "import pandas as pd\n",
        "from google.colab import files\n",
        "\n",
        "# Upload the csv file\n",
        "uploaded = files.upload()\n",
        "\n",
        "# Get the correct filename\n",
        "file_name = list(uploaded.keys())[0]\n",
        "\n",
        "# Read the CSV file\n",
        "df = pd.read_csv(file_name)\n",
        "\n",
        "# Check if the dataset is loaded correctly\n",
        "print(df.head())"
      ],
      "metadata": {
        "colab": {
          "base_uri": "https://localhost:8080/",
          "height": 940
        },
        "id": "Qdqrve-58dnA",
        "outputId": "90888daf-f69f-4ade-a17a-c88a2cc36f34"
      },
      "execution_count": 1,
      "outputs": [
        {
          "output_type": "display_data",
          "data": {
            "text/plain": [
              "<IPython.core.display.HTML object>"
            ],
            "text/html": [
              "\n",
              "     <input type=\"file\" id=\"files-bc22cac7-ebc8-400f-a8ea-389c55b6d025\" name=\"files[]\" multiple disabled\n",
              "        style=\"border:none\" />\n",
              "     <output id=\"result-bc22cac7-ebc8-400f-a8ea-389c55b6d025\">\n",
              "      Upload widget is only available when the cell has been executed in the\n",
              "      current browser session. Please rerun this cell to enable.\n",
              "      </output>\n",
              "      <script>// Copyright 2017 Google LLC\n",
              "//\n",
              "// Licensed under the Apache License, Version 2.0 (the \"License\");\n",
              "// you may not use this file except in compliance with the License.\n",
              "// You may obtain a copy of the License at\n",
              "//\n",
              "//      http://www.apache.org/licenses/LICENSE-2.0\n",
              "//\n",
              "// Unless required by applicable law or agreed to in writing, software\n",
              "// distributed under the License is distributed on an \"AS IS\" BASIS,\n",
              "// WITHOUT WARRANTIES OR CONDITIONS OF ANY KIND, either express or implied.\n",
              "// See the License for the specific language governing permissions and\n",
              "// limitations under the License.\n",
              "\n",
              "/**\n",
              " * @fileoverview Helpers for google.colab Python module.\n",
              " */\n",
              "(function(scope) {\n",
              "function span(text, styleAttributes = {}) {\n",
              "  const element = document.createElement('span');\n",
              "  element.textContent = text;\n",
              "  for (const key of Object.keys(styleAttributes)) {\n",
              "    element.style[key] = styleAttributes[key];\n",
              "  }\n",
              "  return element;\n",
              "}\n",
              "\n",
              "// Max number of bytes which will be uploaded at a time.\n",
              "const MAX_PAYLOAD_SIZE = 100 * 1024;\n",
              "\n",
              "function _uploadFiles(inputId, outputId) {\n",
              "  const steps = uploadFilesStep(inputId, outputId);\n",
              "  const outputElement = document.getElementById(outputId);\n",
              "  // Cache steps on the outputElement to make it available for the next call\n",
              "  // to uploadFilesContinue from Python.\n",
              "  outputElement.steps = steps;\n",
              "\n",
              "  return _uploadFilesContinue(outputId);\n",
              "}\n",
              "\n",
              "// This is roughly an async generator (not supported in the browser yet),\n",
              "// where there are multiple asynchronous steps and the Python side is going\n",
              "// to poll for completion of each step.\n",
              "// This uses a Promise to block the python side on completion of each step,\n",
              "// then passes the result of the previous step as the input to the next step.\n",
              "function _uploadFilesContinue(outputId) {\n",
              "  const outputElement = document.getElementById(outputId);\n",
              "  const steps = outputElement.steps;\n",
              "\n",
              "  const next = steps.next(outputElement.lastPromiseValue);\n",
              "  return Promise.resolve(next.value.promise).then((value) => {\n",
              "    // Cache the last promise value to make it available to the next\n",
              "    // step of the generator.\n",
              "    outputElement.lastPromiseValue = value;\n",
              "    return next.value.response;\n",
              "  });\n",
              "}\n",
              "\n",
              "/**\n",
              " * Generator function which is called between each async step of the upload\n",
              " * process.\n",
              " * @param {string} inputId Element ID of the input file picker element.\n",
              " * @param {string} outputId Element ID of the output display.\n",
              " * @return {!Iterable<!Object>} Iterable of next steps.\n",
              " */\n",
              "function* uploadFilesStep(inputId, outputId) {\n",
              "  const inputElement = document.getElementById(inputId);\n",
              "  inputElement.disabled = false;\n",
              "\n",
              "  const outputElement = document.getElementById(outputId);\n",
              "  outputElement.innerHTML = '';\n",
              "\n",
              "  const pickedPromise = new Promise((resolve) => {\n",
              "    inputElement.addEventListener('change', (e) => {\n",
              "      resolve(e.target.files);\n",
              "    });\n",
              "  });\n",
              "\n",
              "  const cancel = document.createElement('button');\n",
              "  inputElement.parentElement.appendChild(cancel);\n",
              "  cancel.textContent = 'Cancel upload';\n",
              "  const cancelPromise = new Promise((resolve) => {\n",
              "    cancel.onclick = () => {\n",
              "      resolve(null);\n",
              "    };\n",
              "  });\n",
              "\n",
              "  // Wait for the user to pick the files.\n",
              "  const files = yield {\n",
              "    promise: Promise.race([pickedPromise, cancelPromise]),\n",
              "    response: {\n",
              "      action: 'starting',\n",
              "    }\n",
              "  };\n",
              "\n",
              "  cancel.remove();\n",
              "\n",
              "  // Disable the input element since further picks are not allowed.\n",
              "  inputElement.disabled = true;\n",
              "\n",
              "  if (!files) {\n",
              "    return {\n",
              "      response: {\n",
              "        action: 'complete',\n",
              "      }\n",
              "    };\n",
              "  }\n",
              "\n",
              "  for (const file of files) {\n",
              "    const li = document.createElement('li');\n",
              "    li.append(span(file.name, {fontWeight: 'bold'}));\n",
              "    li.append(span(\n",
              "        `(${file.type || 'n/a'}) - ${file.size} bytes, ` +\n",
              "        `last modified: ${\n",
              "            file.lastModifiedDate ? file.lastModifiedDate.toLocaleDateString() :\n",
              "                                    'n/a'} - `));\n",
              "    const percent = span('0% done');\n",
              "    li.appendChild(percent);\n",
              "\n",
              "    outputElement.appendChild(li);\n",
              "\n",
              "    const fileDataPromise = new Promise((resolve) => {\n",
              "      const reader = new FileReader();\n",
              "      reader.onload = (e) => {\n",
              "        resolve(e.target.result);\n",
              "      };\n",
              "      reader.readAsArrayBuffer(file);\n",
              "    });\n",
              "    // Wait for the data to be ready.\n",
              "    let fileData = yield {\n",
              "      promise: fileDataPromise,\n",
              "      response: {\n",
              "        action: 'continue',\n",
              "      }\n",
              "    };\n",
              "\n",
              "    // Use a chunked sending to avoid message size limits. See b/62115660.\n",
              "    let position = 0;\n",
              "    do {\n",
              "      const length = Math.min(fileData.byteLength - position, MAX_PAYLOAD_SIZE);\n",
              "      const chunk = new Uint8Array(fileData, position, length);\n",
              "      position += length;\n",
              "\n",
              "      const base64 = btoa(String.fromCharCode.apply(null, chunk));\n",
              "      yield {\n",
              "        response: {\n",
              "          action: 'append',\n",
              "          file: file.name,\n",
              "          data: base64,\n",
              "        },\n",
              "      };\n",
              "\n",
              "      let percentDone = fileData.byteLength === 0 ?\n",
              "          100 :\n",
              "          Math.round((position / fileData.byteLength) * 100);\n",
              "      percent.textContent = `${percentDone}% done`;\n",
              "\n",
              "    } while (position < fileData.byteLength);\n",
              "  }\n",
              "\n",
              "  // All done.\n",
              "  yield {\n",
              "    response: {\n",
              "      action: 'complete',\n",
              "    }\n",
              "  };\n",
              "}\n",
              "\n",
              "scope.google = scope.google || {};\n",
              "scope.google.colab = scope.google.colab || {};\n",
              "scope.google.colab._files = {\n",
              "  _uploadFiles,\n",
              "  _uploadFilesContinue,\n",
              "};\n",
              "})(self);\n",
              "</script> "
            ]
          },
          "metadata": {}
        },
        {
          "output_type": "stream",
          "name": "stdout",
          "text": [
            "Saving Dataset .csv to Dataset .csv\n",
            "   Restaurant ID         Restaurant Name  Country Code              City  \\\n",
            "0        6317637        Le Petit Souffle           162       Makati City   \n",
            "1        6304287        Izakaya Kikufuji           162       Makati City   \n",
            "2        6300002  Heat - Edsa Shangri-La           162  Mandaluyong City   \n",
            "3        6318506                    Ooma           162  Mandaluyong City   \n",
            "4        6314302             Sambo Kojin           162  Mandaluyong City   \n",
            "\n",
            "                                             Address  \\\n",
            "0  Third Floor, Century City Mall, Kalayaan Avenu...   \n",
            "1  Little Tokyo, 2277 Chino Roces Avenue, Legaspi...   \n",
            "2  Edsa Shangri-La, 1 Garden Way, Ortigas, Mandal...   \n",
            "3  Third Floor, Mega Fashion Hall, SM Megamall, O...   \n",
            "4  Third Floor, Mega Atrium, SM Megamall, Ortigas...   \n",
            "\n",
            "                                     Locality  \\\n",
            "0   Century City Mall, Poblacion, Makati City   \n",
            "1  Little Tokyo, Legaspi Village, Makati City   \n",
            "2  Edsa Shangri-La, Ortigas, Mandaluyong City   \n",
            "3      SM Megamall, Ortigas, Mandaluyong City   \n",
            "4      SM Megamall, Ortigas, Mandaluyong City   \n",
            "\n",
            "                                    Locality Verbose   Longitude   Latitude  \\\n",
            "0  Century City Mall, Poblacion, Makati City, Mak...  121.027535  14.565443   \n",
            "1  Little Tokyo, Legaspi Village, Makati City, Ma...  121.014101  14.553708   \n",
            "2  Edsa Shangri-La, Ortigas, Mandaluyong City, Ma...  121.056831  14.581404   \n",
            "3  SM Megamall, Ortigas, Mandaluyong City, Mandal...  121.056475  14.585318   \n",
            "4  SM Megamall, Ortigas, Mandaluyong City, Mandal...  121.057508  14.584450   \n",
            "\n",
            "                           Cuisines  ...          Currency Has Table booking  \\\n",
            "0        French, Japanese, Desserts  ...  Botswana Pula(P)               Yes   \n",
            "1                          Japanese  ...  Botswana Pula(P)               Yes   \n",
            "2  Seafood, Asian, Filipino, Indian  ...  Botswana Pula(P)               Yes   \n",
            "3                   Japanese, Sushi  ...  Botswana Pula(P)                No   \n",
            "4                  Japanese, Korean  ...  Botswana Pula(P)               Yes   \n",
            "\n",
            "  Has Online delivery Is delivering now Switch to order menu Price range  \\\n",
            "0                  No                No                   No           3   \n",
            "1                  No                No                   No           3   \n",
            "2                  No                No                   No           4   \n",
            "3                  No                No                   No           4   \n",
            "4                  No                No                   No           4   \n",
            "\n",
            "   Aggregate rating  Rating color Rating text Votes  \n",
            "0               4.8    Dark Green   Excellent   314  \n",
            "1               4.5    Dark Green   Excellent   591  \n",
            "2               4.4         Green   Very Good   270  \n",
            "3               4.9    Dark Green   Excellent   365  \n",
            "4               4.8    Dark Green   Excellent   229  \n",
            "\n",
            "[5 rows x 21 columns]\n"
          ]
        }
      ]
    },
    {
      "cell_type": "markdown",
      "source": [
        "**Count Rows and Columns**"
      ],
      "metadata": {
        "id": "rl2VO0hk9qDs"
      }
    },
    {
      "cell_type": "code",
      "source": [
        "rows, columns = df.shape\n",
        "print(f\"Number of Rows: {rows}\")\n",
        "print(f\"Number of Columns:{columns}\")"
      ],
      "metadata": {
        "colab": {
          "base_uri": "https://localhost:8080/"
        },
        "id": "nbON7kg190aQ",
        "outputId": "22cb8556-a195-474a-8266-31144cce1a46"
      },
      "execution_count": 3,
      "outputs": [
        {
          "output_type": "stream",
          "name": "stdout",
          "text": [
            "Number of Rows: 9551\n",
            "Number of Columns:21\n"
          ]
        }
      ]
    },
    {
      "cell_type": "markdown",
      "source": [
        "**Save Output in a File**"
      ],
      "metadata": {
        "id": "PFzxzRjW-XQY"
      }
    },
    {
      "cell_type": "code",
      "source": [
        "output_text = f\"Number of Rows: {rows}\\nNumber of Columns:{columns}\"\n",
        "\n",
        "# Define the output file name\n",
        "output_file = \"dataset_shape.txt\"\n",
        "\n",
        "# Write to the file\n",
        "with open(output_file, \"w\") as file:\n",
        "    file.write(output_text)\n",
        "\n",
        "print(\"File saved successfully\")"
      ],
      "metadata": {
        "colab": {
          "base_uri": "https://localhost:8080/"
        },
        "id": "FGmsNF_J-7rB",
        "outputId": "3ab9331c-67fd-4397-bffb-88a1ba75f032"
      },
      "execution_count": 4,
      "outputs": [
        {
          "output_type": "stream",
          "name": "stdout",
          "text": [
            "File saved successfully\n"
          ]
        }
      ]
    },
    {
      "cell_type": "markdown",
      "source": [
        "## **Check for missing values in each column and handle them accordingly.**"
      ],
      "metadata": {
        "id": "yeB1w2wUAquO"
      }
    },
    {
      "cell_type": "code",
      "source": [
        "import pandas as pd\n",
        "from google.colab import files\n",
        "\n",
        "# Upload the csv file\n",
        "uploaded = files.upload()\n",
        "\n",
        "# Get the correct filename\n",
        "file_name = list(uploaded.keys())[0]\n",
        "\n",
        "# Read the CSV file\n",
        "df = pd.read_csv(file_name)\n",
        "\n",
        "# Check if the dataset is loaded correctly\n",
        "print(df.head())"
      ],
      "metadata": {
        "colab": {
          "base_uri": "https://localhost:8080/",
          "height": 940
        },
        "id": "XOaX_bMQA4c9",
        "outputId": "bdf7e7cc-c4f2-4fcc-deb6-156b77cd5e9f"
      },
      "execution_count": 5,
      "outputs": [
        {
          "output_type": "display_data",
          "data": {
            "text/plain": [
              "<IPython.core.display.HTML object>"
            ],
            "text/html": [
              "\n",
              "     <input type=\"file\" id=\"files-835b7ea7-cbb7-4a1d-b152-cc9600fa41e1\" name=\"files[]\" multiple disabled\n",
              "        style=\"border:none\" />\n",
              "     <output id=\"result-835b7ea7-cbb7-4a1d-b152-cc9600fa41e1\">\n",
              "      Upload widget is only available when the cell has been executed in the\n",
              "      current browser session. Please rerun this cell to enable.\n",
              "      </output>\n",
              "      <script>// Copyright 2017 Google LLC\n",
              "//\n",
              "// Licensed under the Apache License, Version 2.0 (the \"License\");\n",
              "// you may not use this file except in compliance with the License.\n",
              "// You may obtain a copy of the License at\n",
              "//\n",
              "//      http://www.apache.org/licenses/LICENSE-2.0\n",
              "//\n",
              "// Unless required by applicable law or agreed to in writing, software\n",
              "// distributed under the License is distributed on an \"AS IS\" BASIS,\n",
              "// WITHOUT WARRANTIES OR CONDITIONS OF ANY KIND, either express or implied.\n",
              "// See the License for the specific language governing permissions and\n",
              "// limitations under the License.\n",
              "\n",
              "/**\n",
              " * @fileoverview Helpers for google.colab Python module.\n",
              " */\n",
              "(function(scope) {\n",
              "function span(text, styleAttributes = {}) {\n",
              "  const element = document.createElement('span');\n",
              "  element.textContent = text;\n",
              "  for (const key of Object.keys(styleAttributes)) {\n",
              "    element.style[key] = styleAttributes[key];\n",
              "  }\n",
              "  return element;\n",
              "}\n",
              "\n",
              "// Max number of bytes which will be uploaded at a time.\n",
              "const MAX_PAYLOAD_SIZE = 100 * 1024;\n",
              "\n",
              "function _uploadFiles(inputId, outputId) {\n",
              "  const steps = uploadFilesStep(inputId, outputId);\n",
              "  const outputElement = document.getElementById(outputId);\n",
              "  // Cache steps on the outputElement to make it available for the next call\n",
              "  // to uploadFilesContinue from Python.\n",
              "  outputElement.steps = steps;\n",
              "\n",
              "  return _uploadFilesContinue(outputId);\n",
              "}\n",
              "\n",
              "// This is roughly an async generator (not supported in the browser yet),\n",
              "// where there are multiple asynchronous steps and the Python side is going\n",
              "// to poll for completion of each step.\n",
              "// This uses a Promise to block the python side on completion of each step,\n",
              "// then passes the result of the previous step as the input to the next step.\n",
              "function _uploadFilesContinue(outputId) {\n",
              "  const outputElement = document.getElementById(outputId);\n",
              "  const steps = outputElement.steps;\n",
              "\n",
              "  const next = steps.next(outputElement.lastPromiseValue);\n",
              "  return Promise.resolve(next.value.promise).then((value) => {\n",
              "    // Cache the last promise value to make it available to the next\n",
              "    // step of the generator.\n",
              "    outputElement.lastPromiseValue = value;\n",
              "    return next.value.response;\n",
              "  });\n",
              "}\n",
              "\n",
              "/**\n",
              " * Generator function which is called between each async step of the upload\n",
              " * process.\n",
              " * @param {string} inputId Element ID of the input file picker element.\n",
              " * @param {string} outputId Element ID of the output display.\n",
              " * @return {!Iterable<!Object>} Iterable of next steps.\n",
              " */\n",
              "function* uploadFilesStep(inputId, outputId) {\n",
              "  const inputElement = document.getElementById(inputId);\n",
              "  inputElement.disabled = false;\n",
              "\n",
              "  const outputElement = document.getElementById(outputId);\n",
              "  outputElement.innerHTML = '';\n",
              "\n",
              "  const pickedPromise = new Promise((resolve) => {\n",
              "    inputElement.addEventListener('change', (e) => {\n",
              "      resolve(e.target.files);\n",
              "    });\n",
              "  });\n",
              "\n",
              "  const cancel = document.createElement('button');\n",
              "  inputElement.parentElement.appendChild(cancel);\n",
              "  cancel.textContent = 'Cancel upload';\n",
              "  const cancelPromise = new Promise((resolve) => {\n",
              "    cancel.onclick = () => {\n",
              "      resolve(null);\n",
              "    };\n",
              "  });\n",
              "\n",
              "  // Wait for the user to pick the files.\n",
              "  const files = yield {\n",
              "    promise: Promise.race([pickedPromise, cancelPromise]),\n",
              "    response: {\n",
              "      action: 'starting',\n",
              "    }\n",
              "  };\n",
              "\n",
              "  cancel.remove();\n",
              "\n",
              "  // Disable the input element since further picks are not allowed.\n",
              "  inputElement.disabled = true;\n",
              "\n",
              "  if (!files) {\n",
              "    return {\n",
              "      response: {\n",
              "        action: 'complete',\n",
              "      }\n",
              "    };\n",
              "  }\n",
              "\n",
              "  for (const file of files) {\n",
              "    const li = document.createElement('li');\n",
              "    li.append(span(file.name, {fontWeight: 'bold'}));\n",
              "    li.append(span(\n",
              "        `(${file.type || 'n/a'}) - ${file.size} bytes, ` +\n",
              "        `last modified: ${\n",
              "            file.lastModifiedDate ? file.lastModifiedDate.toLocaleDateString() :\n",
              "                                    'n/a'} - `));\n",
              "    const percent = span('0% done');\n",
              "    li.appendChild(percent);\n",
              "\n",
              "    outputElement.appendChild(li);\n",
              "\n",
              "    const fileDataPromise = new Promise((resolve) => {\n",
              "      const reader = new FileReader();\n",
              "      reader.onload = (e) => {\n",
              "        resolve(e.target.result);\n",
              "      };\n",
              "      reader.readAsArrayBuffer(file);\n",
              "    });\n",
              "    // Wait for the data to be ready.\n",
              "    let fileData = yield {\n",
              "      promise: fileDataPromise,\n",
              "      response: {\n",
              "        action: 'continue',\n",
              "      }\n",
              "    };\n",
              "\n",
              "    // Use a chunked sending to avoid message size limits. See b/62115660.\n",
              "    let position = 0;\n",
              "    do {\n",
              "      const length = Math.min(fileData.byteLength - position, MAX_PAYLOAD_SIZE);\n",
              "      const chunk = new Uint8Array(fileData, position, length);\n",
              "      position += length;\n",
              "\n",
              "      const base64 = btoa(String.fromCharCode.apply(null, chunk));\n",
              "      yield {\n",
              "        response: {\n",
              "          action: 'append',\n",
              "          file: file.name,\n",
              "          data: base64,\n",
              "        },\n",
              "      };\n",
              "\n",
              "      let percentDone = fileData.byteLength === 0 ?\n",
              "          100 :\n",
              "          Math.round((position / fileData.byteLength) * 100);\n",
              "      percent.textContent = `${percentDone}% done`;\n",
              "\n",
              "    } while (position < fileData.byteLength);\n",
              "  }\n",
              "\n",
              "  // All done.\n",
              "  yield {\n",
              "    response: {\n",
              "      action: 'complete',\n",
              "    }\n",
              "  };\n",
              "}\n",
              "\n",
              "scope.google = scope.google || {};\n",
              "scope.google.colab = scope.google.colab || {};\n",
              "scope.google.colab._files = {\n",
              "  _uploadFiles,\n",
              "  _uploadFilesContinue,\n",
              "};\n",
              "})(self);\n",
              "</script> "
            ]
          },
          "metadata": {}
        },
        {
          "output_type": "stream",
          "name": "stdout",
          "text": [
            "Saving Dataset .csv to Dataset  (1).csv\n",
            "   Restaurant ID         Restaurant Name  Country Code              City  \\\n",
            "0        6317637        Le Petit Souffle           162       Makati City   \n",
            "1        6304287        Izakaya Kikufuji           162       Makati City   \n",
            "2        6300002  Heat - Edsa Shangri-La           162  Mandaluyong City   \n",
            "3        6318506                    Ooma           162  Mandaluyong City   \n",
            "4        6314302             Sambo Kojin           162  Mandaluyong City   \n",
            "\n",
            "                                             Address  \\\n",
            "0  Third Floor, Century City Mall, Kalayaan Avenu...   \n",
            "1  Little Tokyo, 2277 Chino Roces Avenue, Legaspi...   \n",
            "2  Edsa Shangri-La, 1 Garden Way, Ortigas, Mandal...   \n",
            "3  Third Floor, Mega Fashion Hall, SM Megamall, O...   \n",
            "4  Third Floor, Mega Atrium, SM Megamall, Ortigas...   \n",
            "\n",
            "                                     Locality  \\\n",
            "0   Century City Mall, Poblacion, Makati City   \n",
            "1  Little Tokyo, Legaspi Village, Makati City   \n",
            "2  Edsa Shangri-La, Ortigas, Mandaluyong City   \n",
            "3      SM Megamall, Ortigas, Mandaluyong City   \n",
            "4      SM Megamall, Ortigas, Mandaluyong City   \n",
            "\n",
            "                                    Locality Verbose   Longitude   Latitude  \\\n",
            "0  Century City Mall, Poblacion, Makati City, Mak...  121.027535  14.565443   \n",
            "1  Little Tokyo, Legaspi Village, Makati City, Ma...  121.014101  14.553708   \n",
            "2  Edsa Shangri-La, Ortigas, Mandaluyong City, Ma...  121.056831  14.581404   \n",
            "3  SM Megamall, Ortigas, Mandaluyong City, Mandal...  121.056475  14.585318   \n",
            "4  SM Megamall, Ortigas, Mandaluyong City, Mandal...  121.057508  14.584450   \n",
            "\n",
            "                           Cuisines  ...          Currency Has Table booking  \\\n",
            "0        French, Japanese, Desserts  ...  Botswana Pula(P)               Yes   \n",
            "1                          Japanese  ...  Botswana Pula(P)               Yes   \n",
            "2  Seafood, Asian, Filipino, Indian  ...  Botswana Pula(P)               Yes   \n",
            "3                   Japanese, Sushi  ...  Botswana Pula(P)                No   \n",
            "4                  Japanese, Korean  ...  Botswana Pula(P)               Yes   \n",
            "\n",
            "  Has Online delivery Is delivering now Switch to order menu Price range  \\\n",
            "0                  No                No                   No           3   \n",
            "1                  No                No                   No           3   \n",
            "2                  No                No                   No           4   \n",
            "3                  No                No                   No           4   \n",
            "4                  No                No                   No           4   \n",
            "\n",
            "   Aggregate rating  Rating color Rating text Votes  \n",
            "0               4.8    Dark Green   Excellent   314  \n",
            "1               4.5    Dark Green   Excellent   591  \n",
            "2               4.4         Green   Very Good   270  \n",
            "3               4.9    Dark Green   Excellent   365  \n",
            "4               4.8    Dark Green   Excellent   229  \n",
            "\n",
            "[5 rows x 21 columns]\n"
          ]
        }
      ]
    },
    {
      "cell_type": "markdown",
      "source": [
        "**Check for Missing Values**"
      ],
      "metadata": {
        "id": "7Ahfr7vJBMbl"
      }
    },
    {
      "cell_type": "code",
      "source": [
        "# Check for missing values\n",
        "missing_values = df.isnull().sum()\n",
        "\n",
        "# Print missing values\n",
        "print(\"Missing values in Each Column:\")\n",
        "print(missing_values)"
      ],
      "metadata": {
        "colab": {
          "base_uri": "https://localhost:8080/"
        },
        "id": "GllrznWABR0I",
        "outputId": "65cbe909-a9d7-4b24-c697-b93d69ea3cce"
      },
      "execution_count": 6,
      "outputs": [
        {
          "output_type": "stream",
          "name": "stdout",
          "text": [
            "Missing values in Each Column:\n",
            "Restaurant ID           0\n",
            "Restaurant Name         0\n",
            "Country Code            0\n",
            "City                    0\n",
            "Address                 0\n",
            "Locality                0\n",
            "Locality Verbose        0\n",
            "Longitude               0\n",
            "Latitude                0\n",
            "Cuisines                9\n",
            "Average Cost for two    0\n",
            "Currency                0\n",
            "Has Table booking       0\n",
            "Has Online delivery     0\n",
            "Is delivering now       0\n",
            "Switch to order menu    0\n",
            "Price range             0\n",
            "Aggregate rating        0\n",
            "Rating color            0\n",
            "Rating text             0\n",
            "Votes                   0\n",
            "dtype: int64\n"
          ]
        }
      ]
    },
    {
      "cell_type": "markdown",
      "source": [
        "**Handle Missing Values**"
      ],
      "metadata": {
        "id": "hzadvJo-CL61"
      }
    },
    {
      "cell_type": "code",
      "source": [
        "# Ensure numeric columns are converted properly\n",
        "numeric_columns = df.select_dtypes(include=['number']).columns\n",
        "df[numeric_columns] = df[numeric_columns].apply(pd.to_numeric, errors='coerce') # Convert to numeric if not already\n",
        "\n",
        "# Fill missing values for numerical columns with the mean\n",
        "df[numeric_columns] = df[numeric_columns].fillna(df[numeric_columns].mean())\n",
        "\n",
        "# Fill missing values for categorical columns with the mode\n",
        "for col in df.select_dtypes(include=['object']).columns:\n",
        "    df[col] = df[col].fillna(df[col]. mode()[0])\n",
        "\n",
        "# Save the cleaned dataset\n",
        "df.to_csv('cleaned_dataset.csv', index=False)\n",
        "\n",
        "print(\"Missing values handled successfully and saved as 'cleaned_dataset.csv'\")"
      ],
      "metadata": {
        "colab": {
          "base_uri": "https://localhost:8080/"
        },
        "id": "3OJO4PRZIRc5",
        "outputId": "4b0b64e0-ae36-4a84-b1db-f10df6281fd4"
      },
      "execution_count": 13,
      "outputs": [
        {
          "output_type": "stream",
          "name": "stdout",
          "text": [
            "Missing values handled successfully and saved as 'cleaned_dataset.csv'\n"
          ]
        }
      ]
    },
    {
      "cell_type": "markdown",
      "source": [
        "## **Perform data type conversion if necessary.**\n",
        "\n",
        "## **Analyze the distribution of the target variable (\"Aggregate rating\") and identify any class imbalances.**"
      ],
      "metadata": {
        "id": "qfWfOLSMLu8h"
      }
    },
    {
      "cell_type": "code",
      "source": [
        "import pandas as pd\n",
        "from google.colab import files\n",
        "\n",
        "# Upload the csv file\n",
        "uploaded = files.upload()\n",
        "\n",
        "# Get the correct filename\n",
        "file_name = list(uploaded.keys())[0]\n",
        "\n",
        "# Read the CSV file\n",
        "df = pd.read_csv(file_name)\n",
        "\n",
        "# Check if the dataset is loaded correctly\n",
        "print(df.head())"
      ],
      "metadata": {
        "colab": {
          "base_uri": "https://localhost:8080/",
          "height": 940
        },
        "id": "ewheotKeMh6F",
        "outputId": "b447cfd3-b630-4c47-96dd-e0ca3532042a"
      },
      "execution_count": 14,
      "outputs": [
        {
          "output_type": "display_data",
          "data": {
            "text/plain": [
              "<IPython.core.display.HTML object>"
            ],
            "text/html": [
              "\n",
              "     <input type=\"file\" id=\"files-7bcc8aa3-62fe-4fff-8ab0-e56d3e2ccf1d\" name=\"files[]\" multiple disabled\n",
              "        style=\"border:none\" />\n",
              "     <output id=\"result-7bcc8aa3-62fe-4fff-8ab0-e56d3e2ccf1d\">\n",
              "      Upload widget is only available when the cell has been executed in the\n",
              "      current browser session. Please rerun this cell to enable.\n",
              "      </output>\n",
              "      <script>// Copyright 2017 Google LLC\n",
              "//\n",
              "// Licensed under the Apache License, Version 2.0 (the \"License\");\n",
              "// you may not use this file except in compliance with the License.\n",
              "// You may obtain a copy of the License at\n",
              "//\n",
              "//      http://www.apache.org/licenses/LICENSE-2.0\n",
              "//\n",
              "// Unless required by applicable law or agreed to in writing, software\n",
              "// distributed under the License is distributed on an \"AS IS\" BASIS,\n",
              "// WITHOUT WARRANTIES OR CONDITIONS OF ANY KIND, either express or implied.\n",
              "// See the License for the specific language governing permissions and\n",
              "// limitations under the License.\n",
              "\n",
              "/**\n",
              " * @fileoverview Helpers for google.colab Python module.\n",
              " */\n",
              "(function(scope) {\n",
              "function span(text, styleAttributes = {}) {\n",
              "  const element = document.createElement('span');\n",
              "  element.textContent = text;\n",
              "  for (const key of Object.keys(styleAttributes)) {\n",
              "    element.style[key] = styleAttributes[key];\n",
              "  }\n",
              "  return element;\n",
              "}\n",
              "\n",
              "// Max number of bytes which will be uploaded at a time.\n",
              "const MAX_PAYLOAD_SIZE = 100 * 1024;\n",
              "\n",
              "function _uploadFiles(inputId, outputId) {\n",
              "  const steps = uploadFilesStep(inputId, outputId);\n",
              "  const outputElement = document.getElementById(outputId);\n",
              "  // Cache steps on the outputElement to make it available for the next call\n",
              "  // to uploadFilesContinue from Python.\n",
              "  outputElement.steps = steps;\n",
              "\n",
              "  return _uploadFilesContinue(outputId);\n",
              "}\n",
              "\n",
              "// This is roughly an async generator (not supported in the browser yet),\n",
              "// where there are multiple asynchronous steps and the Python side is going\n",
              "// to poll for completion of each step.\n",
              "// This uses a Promise to block the python side on completion of each step,\n",
              "// then passes the result of the previous step as the input to the next step.\n",
              "function _uploadFilesContinue(outputId) {\n",
              "  const outputElement = document.getElementById(outputId);\n",
              "  const steps = outputElement.steps;\n",
              "\n",
              "  const next = steps.next(outputElement.lastPromiseValue);\n",
              "  return Promise.resolve(next.value.promise).then((value) => {\n",
              "    // Cache the last promise value to make it available to the next\n",
              "    // step of the generator.\n",
              "    outputElement.lastPromiseValue = value;\n",
              "    return next.value.response;\n",
              "  });\n",
              "}\n",
              "\n",
              "/**\n",
              " * Generator function which is called between each async step of the upload\n",
              " * process.\n",
              " * @param {string} inputId Element ID of the input file picker element.\n",
              " * @param {string} outputId Element ID of the output display.\n",
              " * @return {!Iterable<!Object>} Iterable of next steps.\n",
              " */\n",
              "function* uploadFilesStep(inputId, outputId) {\n",
              "  const inputElement = document.getElementById(inputId);\n",
              "  inputElement.disabled = false;\n",
              "\n",
              "  const outputElement = document.getElementById(outputId);\n",
              "  outputElement.innerHTML = '';\n",
              "\n",
              "  const pickedPromise = new Promise((resolve) => {\n",
              "    inputElement.addEventListener('change', (e) => {\n",
              "      resolve(e.target.files);\n",
              "    });\n",
              "  });\n",
              "\n",
              "  const cancel = document.createElement('button');\n",
              "  inputElement.parentElement.appendChild(cancel);\n",
              "  cancel.textContent = 'Cancel upload';\n",
              "  const cancelPromise = new Promise((resolve) => {\n",
              "    cancel.onclick = () => {\n",
              "      resolve(null);\n",
              "    };\n",
              "  });\n",
              "\n",
              "  // Wait for the user to pick the files.\n",
              "  const files = yield {\n",
              "    promise: Promise.race([pickedPromise, cancelPromise]),\n",
              "    response: {\n",
              "      action: 'starting',\n",
              "    }\n",
              "  };\n",
              "\n",
              "  cancel.remove();\n",
              "\n",
              "  // Disable the input element since further picks are not allowed.\n",
              "  inputElement.disabled = true;\n",
              "\n",
              "  if (!files) {\n",
              "    return {\n",
              "      response: {\n",
              "        action: 'complete',\n",
              "      }\n",
              "    };\n",
              "  }\n",
              "\n",
              "  for (const file of files) {\n",
              "    const li = document.createElement('li');\n",
              "    li.append(span(file.name, {fontWeight: 'bold'}));\n",
              "    li.append(span(\n",
              "        `(${file.type || 'n/a'}) - ${file.size} bytes, ` +\n",
              "        `last modified: ${\n",
              "            file.lastModifiedDate ? file.lastModifiedDate.toLocaleDateString() :\n",
              "                                    'n/a'} - `));\n",
              "    const percent = span('0% done');\n",
              "    li.appendChild(percent);\n",
              "\n",
              "    outputElement.appendChild(li);\n",
              "\n",
              "    const fileDataPromise = new Promise((resolve) => {\n",
              "      const reader = new FileReader();\n",
              "      reader.onload = (e) => {\n",
              "        resolve(e.target.result);\n",
              "      };\n",
              "      reader.readAsArrayBuffer(file);\n",
              "    });\n",
              "    // Wait for the data to be ready.\n",
              "    let fileData = yield {\n",
              "      promise: fileDataPromise,\n",
              "      response: {\n",
              "        action: 'continue',\n",
              "      }\n",
              "    };\n",
              "\n",
              "    // Use a chunked sending to avoid message size limits. See b/62115660.\n",
              "    let position = 0;\n",
              "    do {\n",
              "      const length = Math.min(fileData.byteLength - position, MAX_PAYLOAD_SIZE);\n",
              "      const chunk = new Uint8Array(fileData, position, length);\n",
              "      position += length;\n",
              "\n",
              "      const base64 = btoa(String.fromCharCode.apply(null, chunk));\n",
              "      yield {\n",
              "        response: {\n",
              "          action: 'append',\n",
              "          file: file.name,\n",
              "          data: base64,\n",
              "        },\n",
              "      };\n",
              "\n",
              "      let percentDone = fileData.byteLength === 0 ?\n",
              "          100 :\n",
              "          Math.round((position / fileData.byteLength) * 100);\n",
              "      percent.textContent = `${percentDone}% done`;\n",
              "\n",
              "    } while (position < fileData.byteLength);\n",
              "  }\n",
              "\n",
              "  // All done.\n",
              "  yield {\n",
              "    response: {\n",
              "      action: 'complete',\n",
              "    }\n",
              "  };\n",
              "}\n",
              "\n",
              "scope.google = scope.google || {};\n",
              "scope.google.colab = scope.google.colab || {};\n",
              "scope.google.colab._files = {\n",
              "  _uploadFiles,\n",
              "  _uploadFilesContinue,\n",
              "};\n",
              "})(self);\n",
              "</script> "
            ]
          },
          "metadata": {}
        },
        {
          "output_type": "stream",
          "name": "stdout",
          "text": [
            "Saving Dataset .csv to Dataset  (2).csv\n",
            "   Restaurant ID         Restaurant Name  Country Code              City  \\\n",
            "0        6317637        Le Petit Souffle           162       Makati City   \n",
            "1        6304287        Izakaya Kikufuji           162       Makati City   \n",
            "2        6300002  Heat - Edsa Shangri-La           162  Mandaluyong City   \n",
            "3        6318506                    Ooma           162  Mandaluyong City   \n",
            "4        6314302             Sambo Kojin           162  Mandaluyong City   \n",
            "\n",
            "                                             Address  \\\n",
            "0  Third Floor, Century City Mall, Kalayaan Avenu...   \n",
            "1  Little Tokyo, 2277 Chino Roces Avenue, Legaspi...   \n",
            "2  Edsa Shangri-La, 1 Garden Way, Ortigas, Mandal...   \n",
            "3  Third Floor, Mega Fashion Hall, SM Megamall, O...   \n",
            "4  Third Floor, Mega Atrium, SM Megamall, Ortigas...   \n",
            "\n",
            "                                     Locality  \\\n",
            "0   Century City Mall, Poblacion, Makati City   \n",
            "1  Little Tokyo, Legaspi Village, Makati City   \n",
            "2  Edsa Shangri-La, Ortigas, Mandaluyong City   \n",
            "3      SM Megamall, Ortigas, Mandaluyong City   \n",
            "4      SM Megamall, Ortigas, Mandaluyong City   \n",
            "\n",
            "                                    Locality Verbose   Longitude   Latitude  \\\n",
            "0  Century City Mall, Poblacion, Makati City, Mak...  121.027535  14.565443   \n",
            "1  Little Tokyo, Legaspi Village, Makati City, Ma...  121.014101  14.553708   \n",
            "2  Edsa Shangri-La, Ortigas, Mandaluyong City, Ma...  121.056831  14.581404   \n",
            "3  SM Megamall, Ortigas, Mandaluyong City, Mandal...  121.056475  14.585318   \n",
            "4  SM Megamall, Ortigas, Mandaluyong City, Mandal...  121.057508  14.584450   \n",
            "\n",
            "                           Cuisines  ...          Currency Has Table booking  \\\n",
            "0        French, Japanese, Desserts  ...  Botswana Pula(P)               Yes   \n",
            "1                          Japanese  ...  Botswana Pula(P)               Yes   \n",
            "2  Seafood, Asian, Filipino, Indian  ...  Botswana Pula(P)               Yes   \n",
            "3                   Japanese, Sushi  ...  Botswana Pula(P)                No   \n",
            "4                  Japanese, Korean  ...  Botswana Pula(P)               Yes   \n",
            "\n",
            "  Has Online delivery Is delivering now Switch to order menu Price range  \\\n",
            "0                  No                No                   No           3   \n",
            "1                  No                No                   No           3   \n",
            "2                  No                No                   No           4   \n",
            "3                  No                No                   No           4   \n",
            "4                  No                No                   No           4   \n",
            "\n",
            "   Aggregate rating  Rating color Rating text Votes  \n",
            "0               4.8    Dark Green   Excellent   314  \n",
            "1               4.5    Dark Green   Excellent   591  \n",
            "2               4.4         Green   Very Good   270  \n",
            "3               4.9    Dark Green   Excellent   365  \n",
            "4               4.8    Dark Green   Excellent   229  \n",
            "\n",
            "[5 rows x 21 columns]\n"
          ]
        }
      ]
    },
    {
      "cell_type": "code",
      "source": [
        "# Check data types\n",
        "print(df.dtypes)"
      ],
      "metadata": {
        "colab": {
          "base_uri": "https://localhost:8080/"
        },
        "id": "urRaeVklNVQy",
        "outputId": "8684f173-87aa-477b-df66-41a9020534cc"
      },
      "execution_count": 15,
      "outputs": [
        {
          "output_type": "stream",
          "name": "stdout",
          "text": [
            "Restaurant ID             int64\n",
            "Restaurant Name          object\n",
            "Country Code              int64\n",
            "City                     object\n",
            "Address                  object\n",
            "Locality                 object\n",
            "Locality Verbose         object\n",
            "Longitude               float64\n",
            "Latitude                float64\n",
            "Cuisines                 object\n",
            "Average Cost for two      int64\n",
            "Currency                 object\n",
            "Has Table booking        object\n",
            "Has Online delivery      object\n",
            "Is delivering now        object\n",
            "Switch to order menu     object\n",
            "Price range               int64\n",
            "Aggregate rating        float64\n",
            "Rating color             object\n",
            "Rating text              object\n",
            "Votes                     int64\n",
            "dtype: object\n"
          ]
        }
      ]
    },
    {
      "cell_type": "markdown",
      "source": [
        "**Data Type of \"Aggregate rating\" is numeric, conversion is not needed.**"
      ],
      "metadata": {
        "id": "9SQJtJecOSfO"
      }
    },
    {
      "cell_type": "markdown",
      "source": [
        "**Analyze Distribution of \"Aggregate Rating\"**"
      ],
      "metadata": {
        "id": "4Mt9kjNROugq"
      }
    },
    {
      "cell_type": "code",
      "source": [
        "import matplotlib.pyplot as plt\n",
        "import seaborn as sns\n",
        "\n",
        "# Plot the distribution of \"Aggregate Rating\"\n",
        "plt.figure(figsize=(12, 6))\n",
        "sns.histplot(df[\"Aggregate rating\"], bins=10, kde=True, color=\"green\")\n",
        "plt.title(\"Distribution of Aggregate Rating\")\n",
        "plt.xlabel(\"Aggregate Rating\")\n",
        "plt.ylabel(\"Frequency\")\n",
        "plt.show()"
      ],
      "metadata": {
        "colab": {
          "base_uri": "https://localhost:8080/",
          "height": 564
        },
        "id": "3eHOOuI9O66b",
        "outputId": "61ac98ca-5542-4b73-fcd9-d3a0e99731f8"
      },
      "execution_count": 16,
      "outputs": [
        {
          "output_type": "display_data",
          "data": {
            "text/plain": [
              "<Figure size 1200x600 with 1 Axes>"
            ],
            "image/png": "[encoded data removed]"
          },
          "metadata": {}
        }
      ]
    },
    {
      "cell_type": "markdown",
      "source": [
        "**Identify Class Imbalance**"
      ],
      "metadata": {
        "id": "5ELaTZyHQN-8"
      }
    },
    {
      "cell_type": "code",
      "source": [
        "# Identify class imbalance\n",
        "sns.countplot(x=\"Aggregate rating\", data=df, order=df[\"Aggregate rating\"].value_counts().index)\n",
        "plt.title(\"Class Imbalance in Aggregate rating\")\n",
        "plt.xlabel(\"Aggregate rating\")\n",
        "plt.ylabel(\"Count\")\n",
        "plt.xticks(rotation=45)\n",
        "plt.show()"
      ],
      "metadata": {
        "colab": {
          "base_uri": "https://localhost:8080/",
          "height": 483
        },
        "id": "9MPkxi8dQTiO",
        "outputId": "e2c6b1c4-cd17-4d08-afd3-848e199f1300"
      },
      "execution_count": 20,
      "outputs": [
        {
          "output_type": "display_data",
          "data": {
            "text/plain": [
              "<Figure size 640x480 with 1 Axes>"
            ],
            "image/png": "[encoded data removed]"
          },
          "metadata": {}
        }
      ]
    },
    {
      "cell_type": "markdown",
      "source": [
        "## **Akankshya Sharma**"
      ],
      "metadata": {
        "id": "BM4GQ7LiSUah"
      }
    }
  ]
}